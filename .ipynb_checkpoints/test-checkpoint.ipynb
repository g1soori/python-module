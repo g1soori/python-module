{
 "cells": [
  {
   "cell_type": "code",
   "execution_count": 28,
   "id": "3a486bf3",
   "metadata": {},
   "outputs": [],
   "source": [
    "a = 5\n",
    "temp = format(10, \"b\")"
   ]
  },
  {
   "cell_type": "code",
   "execution_count": 26,
   "id": "7e48c4a8",
   "metadata": {},
   "outputs": [
    {
     "name": "stdout",
     "output_type": "stream",
     "text": [
      " 1010\n"
     ]
    }
   ],
   "source": [
    "print(temp)"
   ]
  },
  {
   "cell_type": "code",
   "execution_count": 30,
   "id": "09bb827f",
   "metadata": {},
   "outputs": [
    {
     "name": "stdout",
     "output_type": "stream",
     "text": [
      "1010\n",
      "12\n",
      "a\n",
      "10\n"
     ]
    }
   ],
   "source": [
    "a = 2\n",
    "print(\"{0:b}\".format(10))\n",
    "print(\"{0:o}\".format(10))\n",
    "print(\"{0:x}\".format(10))\n",
    "print(\"{0:2d}\".format(10))"
   ]
  },
  {
   "cell_type": "code",
   "execution_count": 35,
   "id": "39b98679",
   "metadata": {},
   "outputs": [
    {
     "name": "stdout",
     "output_type": "stream",
     "text": [
      "        13\n"
     ]
    }
   ],
   "source": [
    "a = 10\n",
    "num = 13\n",
    "print(\"{0:{x}d}\".format(num, x = a))"
   ]
  },
  {
   "cell_type": "code",
   "execution_count": 21,
   "id": "fb4a76b4",
   "metadata": {},
   "outputs": [
    {
     "data": {
      "text/plain": [
       "5"
      ]
     },
     "execution_count": 21,
     "metadata": {},
     "output_type": "execute_result"
    }
   ],
   "source": [
    "len(\"{0:b}\".format(17))"
   ]
  },
  {
   "cell_type": "code",
   "execution_count": 36,
   "id": "5a754581",
   "metadata": {},
   "outputs": [],
   "source": [
    "def line(num, width):\n",
    "    return \"{0:{x}d} {0:{x}o} {0:{x}x} {0:{x}b}\".format(num, x = width)"
   ]
  },
  {
   "cell_type": "code",
   "execution_count": 37,
   "id": "ba7da61e",
   "metadata": {},
   "outputs": [
    {
     "name": "stdout",
     "output_type": "stream",
     "text": [
      "        20         24         14      10100\n"
     ]
    }
   ],
   "source": [
    "print(line(20,10))"
   ]
  },
  {
   "cell_type": "code",
   "execution_count": 46,
   "id": "1a9c56da",
   "metadata": {},
   "outputs": [],
   "source": [
    "def print_formatted(number):\n",
    "    width = len(\"{0:b}\".format(number))\n",
    "    for i in range(1,number+1):\n",
    "        print(\"{0:{x}d} {0:{x}o} {0:{x}X} {0:{x}b}\".format(i, x = width))"
   ]
  },
  {
   "cell_type": "code",
   "execution_count": 47,
   "id": "61fc11e0",
   "metadata": {},
   "outputs": [
    {
     "name": "stdout",
     "output_type": "stream",
     "text": [
      "17\n",
      "    1     1     1     1\n",
      "    2     2     2    10\n",
      "    3     3     3    11\n",
      "    4     4     4   100\n",
      "    5     5     5   101\n",
      "    6     6     6   110\n",
      "    7     7     7   111\n",
      "    8    10     8  1000\n",
      "    9    11     9  1001\n",
      "   10    12     A  1010\n",
      "   11    13     B  1011\n",
      "   12    14     C  1100\n",
      "   13    15     D  1101\n",
      "   14    16     E  1110\n",
      "   15    17     F  1111\n",
      "   16    20    10 10000\n",
      "   17    21    11 10001\n"
     ]
    }
   ],
   "source": [
    "\n",
    "n = int(input())\n",
    "print_formatted(n)"
   ]
  },
  {
   "cell_type": "code",
   "execution_count": 113,
   "id": "8b758221",
   "metadata": {},
   "outputs": [
    {
     "data": {
      "text/plain": [
       "'b'"
      ]
     },
     "execution_count": 113,
     "metadata": {},
     "output_type": "execute_result"
    }
   ],
   "source": [
    "import string\n",
    "\n",
    "alpha = list(string.ascii_lowercase)\n",
    "\n",
    "alpha[1]"
   ]
  },
  {
   "cell_type": "code",
   "execution_count": 122,
   "id": "2da8dc44",
   "metadata": {},
   "outputs": [],
   "source": [
    "def print_rangoli(size):\n",
    "    length = size*4 \n",
    "    l = '-a-'\n",
    "    print(l.center(length-1, '-'))\n",
    "    for i in range(1,size):\n",
    "        l = '-' + alpha[i] + l + alpha[i] + '-'\n",
    "        print(l.center(length-1, '-'))\n",
    "    for i in range(size-1):\n",
    "        l = l[2:-2]\n",
    "        print(l.center(length-1, '-'))"
   ]
  },
  {
   "cell_type": "code",
   "execution_count": 124,
   "id": "e65f9887",
   "metadata": {},
   "outputs": [
    {
     "name": "stdout",
     "output_type": "stream",
     "text": [
      "---------a---------\n",
      "-------b-a-b-------\n",
      "-----c-b-a-b-c-----\n",
      "---d-c-b-a-b-c-d---\n",
      "-e-d-c-b-a-b-c-d-e-\n",
      "---d-c-b-a-b-c-d---\n",
      "-----c-b-a-b-c-----\n",
      "-------b-a-b-------\n",
      "---------a---------\n"
     ]
    }
   ],
   "source": [
    "print_rangoli(5)"
   ]
  },
  {
   "cell_type": "code",
   "execution_count": 134,
   "id": "fe2d74a0",
   "metadata": {},
   "outputs": [
    {
     "name": "stdout",
     "output_type": "stream",
     "text": [
      "-c-\n",
      "-c-b-c-\n"
     ]
    }
   ],
   "source": [
    "ll = '-c-'\n",
    "print(ll)\n",
    "ll = ll[:3] + alpha[2-1] + ll[-3:]\n",
    "print(ll)\n",
    "#for i in range(3):\n",
    "#    ll = ll[:1] + alpha[3-i] + ll[i:]"
   ]
  },
  {
   "cell_type": "code",
   "execution_count": 133,
   "id": "31ef9a2b",
   "metadata": {},
   "outputs": [
    {
     "data": {
      "text/plain": [
       "'-c-'"
      ]
     },
     "execution_count": 133,
     "metadata": {},
     "output_type": "execute_result"
    }
   ],
   "source": [
    "ll = '-c-'\n",
    "ll[3]"
   ]
  },
  {
   "cell_type": "code",
   "execution_count": 118,
   "id": "e3b8df60",
   "metadata": {},
   "outputs": [],
   "source": [
    "k = '-c-b-a-b-c-'"
   ]
  },
  {
   "cell_type": "code",
   "execution_count": 119,
   "id": "95146f4e",
   "metadata": {},
   "outputs": [
    {
     "data": {
      "text/plain": [
       "'-b-a-b-'"
      ]
     },
     "execution_count": 119,
     "metadata": {},
     "output_type": "execute_result"
    }
   ],
   "source": [
    "k[2:-2]"
   ]
  },
  {
   "cell_type": "code",
   "execution_count": 65,
   "id": "85bada28",
   "metadata": {},
   "outputs": [
    {
     "data": {
      "text/plain": [
       "'----a-----'"
      ]
     },
     "execution_count": 65,
     "metadata": {},
     "output_type": "execute_result"
    }
   ],
   "source": [
    "'a'.center(10,'-')"
   ]
  },
  {
   "cell_type": "code",
   "execution_count": 71,
   "id": "ec36f5e5",
   "metadata": {},
   "outputs": [
    {
     "name": "stdout",
     "output_type": "stream",
     "text": [
      "-a-\n",
      "-b-a-b-\n",
      "-c-b-a-b-c-\n",
      "-d-c-b-a-b-c-d-\n"
     ]
    }
   ],
   "source": [
    "l = '-a-'\n",
    "print(l)\n",
    "for i in range(1,4):\n",
    "    \n",
    "    l = '-' + alpha[i] + l + alpha[i] + '-'\n",
    "    print(l)"
   ]
  },
  {
   "cell_type": "code",
   "execution_count": null,
   "id": "4876ffea",
   "metadata": {},
   "outputs": [],
   "source": []
  },
  {
   "cell_type": "code",
   "execution_count": null,
   "id": "19bd3901",
   "metadata": {},
   "outputs": [],
   "source": []
  },
  {
   "cell_type": "code",
   "execution_count": null,
   "id": "3fc2bc1f",
   "metadata": {},
   "outputs": [],
   "source": []
  },
  {
   "cell_type": "code",
   "execution_count": null,
   "id": "ec47b819",
   "metadata": {},
   "outputs": [],
   "source": []
  },
  {
   "cell_type": "code",
   "execution_count": null,
   "id": "b80b6ebf",
   "metadata": {},
   "outputs": [],
   "source": []
  },
  {
   "cell_type": "code",
   "execution_count": null,
   "id": "da6be1df",
   "metadata": {},
   "outputs": [],
   "source": []
  },
  {
   "cell_type": "code",
   "execution_count": 5,
   "id": "cf0cb010",
   "metadata": {},
   "outputs": [
    {
     "data": {
      "text/plain": [
       "'HHH'"
      ]
     },
     "execution_count": 5,
     "metadata": {},
     "output_type": "execute_result"
    }
   ],
   "source": [
    "'H'*3"
   ]
  },
  {
   "cell_type": "code",
   "execution_count": 30,
   "id": "68b0993c",
   "metadata": {},
   "outputs": [
    {
     "data": {
      "text/plain": [
       "2"
      ]
     },
     "execution_count": 30,
     "metadata": {},
     "output_type": "execute_result"
    }
   ],
   "source": [
    "c = 'H'\n",
    "thicknes = 5\n",
    "middle = int(thicknes/2)\n",
    "middle"
   ]
  },
  {
   "cell_type": "code",
   "execution_count": 60,
   "id": "893f787f",
   "metadata": {},
   "outputs": [
    {
     "name": "stdout",
     "output_type": "stream",
     "text": [
      "          \n",
      "    HH    \n",
      "   HHHH   \n",
      "  HHHHHH  \n",
      " HHHHHHHH \n",
      "   HHHH                    HHHH       \n",
      "   HHHH                    HHHH       \n",
      "   HHHH                    HHHH       \n",
      "   HHHH                    HHHH       \n",
      "   HHHH                    HHHH       \n",
      "HHHHHHHHHHHHHHHHHHHHHHHHHHHHHHHHHHH\n",
      "HHHHHHHHHHHHHHHHHHHHHHHHHHHHHHHHHHH\n",
      "HHHHHHHHHHHHHHHHHHHHHHHHHHHHHHHHHHH\n"
     ]
    }
   ],
   "source": [
    "for i in range(thicknes):\n",
    "    print(f'{c*i}'.rjust(thicknes,' ') + f'{c*i}'.ljust(thicknes,' '))\n",
    "    \n",
    "for i in range(thicknes):\n",
    "    print(f'{c*4}'.center(thicknes+4,' ') + ' '*10 + f'{c*4}'.center(thicknes+14,' '))\n",
    "    \n",
    "for i in range(3):\n",
    "    print(f'{c*35}'.rjust(30,' '))"
   ]
  },
  {
   "cell_type": "code",
   "execution_count": null,
   "id": "4de7dd80",
   "metadata": {},
   "outputs": [],
   "source": []
  }
 ],
 "metadata": {
  "kernelspec": {
   "display_name": "Python 3 (ipykernel)",
   "language": "python",
   "name": "python3"
  },
  "language_info": {
   "codemirror_mode": {
    "name": "ipython",
    "version": 3
   },
   "file_extension": ".py",
   "mimetype": "text/x-python",
   "name": "python",
   "nbconvert_exporter": "python",
   "pygments_lexer": "ipython3",
   "version": "3.9.7"
  }
 },
 "nbformat": 4,
 "nbformat_minor": 5
}
