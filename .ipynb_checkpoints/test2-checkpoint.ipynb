{
 "cells": [
  {
   "cell_type": "code",
   "execution_count": 1,
   "id": "87c9bec2",
   "metadata": {},
   "outputs": [
    {
     "ename": "SyntaxError",
     "evalue": "unexpected EOF while parsing (480995039.py, line 1)",
     "output_type": "error",
     "traceback": [
      "\u001b[0;36m  File \u001b[0;32m\"/var/folders/mw/xyw1817s6gd71pc1tycz0m_00000gn/T/ipykernel_2905/480995039.py\"\u001b[0;36m, line \u001b[0;32m1\u001b[0m\n\u001b[0;31m    {'roleA':{'param_id1: param_val}'}\u001b[0m\n\u001b[0m                                        ^\u001b[0m\n\u001b[0;31mSyntaxError\u001b[0m\u001b[0;31m:\u001b[0m unexpected EOF while parsing\n"
     ]
    }
   ],
   "source": [
    "{'roleA':{'param_id1: param_val}'}  "
   ]
  },
  {
   "cell_type": "code",
   "execution_count": 7,
   "id": "a471628e",
   "metadata": {},
   "outputs": [],
   "source": [
    "store = {'roleA':[{'param_id1': 'param_val1'},{'param_id2': 'param_val2'}]}  "
   ]
  },
  {
   "cell_type": "code",
   "execution_count": 8,
   "id": "437a8161",
   "metadata": {},
   "outputs": [
    {
     "data": {
      "text/plain": [
       "[{'param_id1': 'param_val1'}, {'param_id2': 'param_val2'}]"
      ]
     },
     "execution_count": 8,
     "metadata": {},
     "output_type": "execute_result"
    }
   ],
   "source": [
    "store['roleA']"
   ]
  },
  {
   "cell_type": "code",
   "execution_count": 9,
   "id": "0eea7a2f",
   "metadata": {},
   "outputs": [
    {
     "ename": "TypeError",
     "evalue": "'list' object cannot be interpreted as an integer",
     "output_type": "error",
     "traceback": [
      "\u001b[0;31m---------------------------------------------------------------------------\u001b[0m",
      "\u001b[0;31mTypeError\u001b[0m                                 Traceback (most recent call last)",
      "\u001b[0;32m/var/folders/mw/xyw1817s6gd71pc1tycz0m_00000gn/T/ipykernel_2905/3143856358.py\u001b[0m in \u001b[0;36m<module>\u001b[0;34m\u001b[0m\n\u001b[0;32m----> 1\u001b[0;31m \u001b[0;32mfor\u001b[0m \u001b[0mp_id\u001b[0m\u001b[0;34m,\u001b[0m \u001b[0mp_val\u001b[0m \u001b[0;32min\u001b[0m \u001b[0mrange\u001b[0m\u001b[0;34m(\u001b[0m\u001b[0mstore\u001b[0m\u001b[0;34m[\u001b[0m\u001b[0;34m'roleA'\u001b[0m\u001b[0;34m]\u001b[0m\u001b[0;34m)\u001b[0m\u001b[0;34m:\u001b[0m\u001b[0;34m\u001b[0m\u001b[0;34m\u001b[0m\u001b[0m\n\u001b[0m\u001b[1;32m      2\u001b[0m     \u001b[0mprint\u001b[0m\u001b[0;34m(\u001b[0m\u001b[0mp_id\u001b[0m\u001b[0;34m)\u001b[0m\u001b[0;34m\u001b[0m\u001b[0;34m\u001b[0m\u001b[0m\n",
      "\u001b[0;31mTypeError\u001b[0m: 'list' object cannot be interpreted as an integer"
     ]
    }
   ],
   "source": [
    "for p_id, p_val in range(store['roleA']):\n",
    "    print(p_id)"
   ]
  },
  {
   "cell_type": "code",
   "execution_count": 11,
   "id": "ab5bf6a3",
   "metadata": {},
   "outputs": [],
   "source": [
    "store = {'roleA':[('param_id1', 'param_val1'),('param_id2', 'param_val2')]}  "
   ]
  },
  {
   "cell_type": "code",
   "execution_count": 13,
   "id": "ab55816b",
   "metadata": {},
   "outputs": [],
   "source": [
    "store['roleA'].append(('param_id3','param_val3'))"
   ]
  },
  {
   "cell_type": "code",
   "execution_count": null,
   "id": "2287a484",
   "metadata": {},
   "outputs": [],
   "source": []
  }
 ],
 "metadata": {
  "kernelspec": {
   "display_name": "Python 3 (ipykernel)",
   "language": "python",
   "name": "python3"
  },
  "language_info": {
   "codemirror_mode": {
    "name": "ipython",
    "version": 3
   },
   "file_extension": ".py",
   "mimetype": "text/x-python",
   "name": "python",
   "nbconvert_exporter": "python",
   "pygments_lexer": "ipython3",
   "version": "3.9.7"
  }
 },
 "nbformat": 4,
 "nbformat_minor": 5
}
