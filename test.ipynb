{
 "cells": [
  {
   "cell_type": "code",
   "execution_count": 29,
   "id": "3a486bf3",
   "metadata": {},
   "outputs": [],
   "source": [
    "s = \"aacecaaa\""
   ]
  },
  {
   "cell_type": "code",
   "execution_count": 31,
   "id": "958dbcba",
   "metadata": {},
   "outputs": [],
   "source": [
    "n = len(s) // 2"
   ]
  },
  {
   "cell_type": "code",
   "execution_count": 34,
   "id": "a6bc9814",
   "metadata": {},
   "outputs": [
    {
     "data": {
      "text/plain": [
       "'e'"
      ]
     },
     "execution_count": 34,
     "metadata": {},
     "output_type": "execute_result"
    }
   ],
   "source": [
    "s[n-1]"
   ]
  },
  {
   "cell_type": "code",
   "execution_count": null,
   "id": "faa42ef6",
   "metadata": {},
   "outputs": [],
   "source": [
    "status = True\n",
    "\n",
    "while status :\n",
    "    "
   ]
  },
  {
   "cell_type": "code",
   "execution_count": null,
   "id": "f06909bc",
   "metadata": {},
   "outputs": [],
   "source": []
  },
  {
   "cell_type": "code",
   "execution_count": null,
   "id": "4442ecc3",
   "metadata": {},
   "outputs": [],
   "source": []
  },
  {
   "cell_type": "code",
   "execution_count": null,
   "id": "f763151d",
   "metadata": {},
   "outputs": [],
   "source": []
  },
  {
   "cell_type": "code",
   "execution_count": 3,
   "id": "c888765b",
   "metadata": {},
   "outputs": [
    {
     "data": {
      "text/plain": [
       "True"
      ]
     },
     "execution_count": 3,
     "metadata": {},
     "output_type": "execute_result"
    }
   ],
   "source": [
    "'needle' in h"
   ]
  },
  {
   "cell_type": "code",
   "execution_count": 4,
   "id": "55bb4dfb",
   "metadata": {},
   "outputs": [],
   "source": [
    "import re"
   ]
  },
  {
   "cell_type": "code",
   "execution_count": 23,
   "id": "a9ea2eb4",
   "metadata": {},
   "outputs": [],
   "source": [
    "a = re.search('needle', h)"
   ]
  },
  {
   "cell_type": "code",
   "execution_count": 25,
   "id": "6f38c3df",
   "metadata": {},
   "outputs": [
    {
     "data": {
      "text/plain": [
       "re.Match"
      ]
     },
     "execution_count": 25,
     "metadata": {},
     "output_type": "execute_result"
    }
   ],
   "source": [
    "type(a)"
   ]
  },
  {
   "cell_type": "code",
   "execution_count": 26,
   "id": "20b080fe",
   "metadata": {},
   "outputs": [
    {
     "data": {
      "text/plain": [
       "10"
      ]
     },
     "execution_count": 26,
     "metadata": {},
     "output_type": "execute_result"
    }
   ],
   "source": [
    "a.start()"
   ]
  },
  {
   "cell_type": "code",
   "execution_count": 286,
   "id": "501c3598",
   "metadata": {},
   "outputs": [],
   "source": [
    "status['incr'] += 1"
   ]
  },
  {
   "cell_type": "code",
   "execution_count": 287,
   "id": "be0cb584",
   "metadata": {},
   "outputs": [
    {
     "data": {
      "text/plain": [
       "{'incr': 1, 'decr': 0}"
      ]
     },
     "execution_count": 287,
     "metadata": {},
     "output_type": "execute_result"
    }
   ],
   "source": [
    "status"
   ]
  },
  {
   "cell_type": "code",
   "execution_count": null,
   "id": "7ae83c52",
   "metadata": {},
   "outputs": [],
   "source": [
    "        if haystack == '':\n",
    "            return 0\n",
    "        elif type(result) == None :\n",
    "            return -1\n",
    "        elif type(result) != None :\n",
    "            return result.start()\n",
    "        else:\n",
    "            pass"
   ]
  },
  {
   "cell_type": "code",
   "execution_count": null,
   "id": "f7e2a59b",
   "metadata": {},
   "outputs": [],
   "source": []
  },
  {
   "cell_type": "code",
   "execution_count": 279,
   "id": "fd9177c4",
   "metadata": {},
   "outputs": [],
   "source": [
    "class MyMaths():\n",
    "    \n",
    "    def __init__(self, price, age):\n",
    "        self.price = price\n",
    "        self.age = age\n",
    "    \n",
    "    def __add__(self, no):\n",
    "        newC = MyMaths(self.price + no.price, self.age + no.age)\n",
    "        return newC"
   ]
  },
  {
   "cell_type": "code",
   "execution_count": 280,
   "id": "95ecb751",
   "metadata": {},
   "outputs": [],
   "source": [
    "car = MyMaths(100, 3)\n",
    "van = MyMaths(200, 4)"
   ]
  },
  {
   "cell_type": "code",
   "execution_count": 281,
   "id": "b3cab165",
   "metadata": {},
   "outputs": [],
   "source": [
    "total = car + van"
   ]
  },
  {
   "cell_type": "code",
   "execution_count": 283,
   "id": "64b4c28a",
   "metadata": {},
   "outputs": [
    {
     "name": "stdout",
     "output_type": "stream",
     "text": [
      "7\n"
     ]
    }
   ],
   "source": [
    "print(total.age)"
   ]
  },
  {
   "cell_type": "code",
   "execution_count": 276,
   "id": "ef91df5e",
   "metadata": {},
   "outputs": [
    {
     "name": "stdout",
     "output_type": "stream",
     "text": [
      "2 5\n"
     ]
    }
   ],
   "source": [
    "c = map(float, input().split())"
   ]
  },
  {
   "cell_type": "code",
   "execution_count": 277,
   "id": "caccf545",
   "metadata": {},
   "outputs": [
    {
     "name": "stdout",
     "output_type": "stream",
     "text": [
      "2.0\n",
      "5.0\n"
     ]
    }
   ],
   "source": [
    "for i in c:\n",
    "    print(i)"
   ]
  },
  {
   "cell_type": "code",
   "execution_count": null,
   "id": "8381ac3c",
   "metadata": {},
   "outputs": [],
   "source": [
    "sda dada"
   ]
  },
  {
   "cell_type": "code",
   "execution_count": 26,
   "id": "ba71f848",
   "metadata": {},
   "outputs": [
    {
     "name": "stdout",
     "output_type": "stream",
     "text": [
      " 1010\n"
     ]
    }
   ],
   "source": [
    "print(temp)"
   ]
  },
  {
   "cell_type": "code",
   "execution_count": 30,
   "id": "fbc4b5ec",
   "metadata": {},
   "outputs": [
    {
     "name": "stdout",
     "output_type": "stream",
     "text": [
      "1010\n",
      "12\n",
      "a\n",
      "10\n"
     ]
    }
   ],
   "source": [
    "a = 2\n",
    "print(\"{0:b}\".format(10))\n",
    "print(\"{0:o}\".format(10))\n",
    "print(\"{0:x}\".format(10))\n",
    "print(\"{0:2d}\".format(10))"
   ]
  },
  {
   "cell_type": "code",
   "execution_count": 35,
   "id": "9fb976a9",
   "metadata": {},
   "outputs": [
    {
     "name": "stdout",
     "output_type": "stream",
     "text": [
      "        13\n"
     ]
    }
   ],
   "source": [
    "a = 10\n",
    "num = 13\n",
    "print(\"{0:{x}d}\".format(num, x = a))"
   ]
  },
  {
   "cell_type": "code",
   "execution_count": 21,
   "id": "1c1519df",
   "metadata": {},
   "outputs": [
    {
     "data": {
      "text/plain": [
       "5"
      ]
     },
     "execution_count": 21,
     "metadata": {},
     "output_type": "execute_result"
    }
   ],
   "source": [
    "len(\"{0:b}\".format(17))"
   ]
  },
  {
   "cell_type": "code",
   "execution_count": 36,
   "id": "a71048a8",
   "metadata": {},
   "outputs": [],
   "source": [
    "def line(num, width):\n",
    "    return \"{0:{x}d} {0:{x}o} {0:{x}x} {0:{x}b}\".format(num, x = width)"
   ]
  },
  {
   "cell_type": "code",
   "execution_count": 37,
   "id": "779e6139",
   "metadata": {},
   "outputs": [
    {
     "name": "stdout",
     "output_type": "stream",
     "text": [
      "        20         24         14      10100\n"
     ]
    }
   ],
   "source": [
    "print(line(20,10))"
   ]
  },
  {
   "cell_type": "code",
   "execution_count": 46,
   "id": "a29fbd0d",
   "metadata": {},
   "outputs": [],
   "source": [
    "def print_formatted(number):\n",
    "    width = len(\"{0:b}\".format(number))\n",
    "    for i in range(1,number+1):\n",
    "        print(\"{0:{x}d} {0:{x}o} {0:{x}X} {0:{x}b}\".format(i, x = width))"
   ]
  },
  {
   "cell_type": "code",
   "execution_count": 47,
   "id": "aaa53875",
   "metadata": {},
   "outputs": [
    {
     "name": "stdout",
     "output_type": "stream",
     "text": [
      "17\n",
      "    1     1     1     1\n",
      "    2     2     2    10\n",
      "    3     3     3    11\n",
      "    4     4     4   100\n",
      "    5     5     5   101\n",
      "    6     6     6   110\n",
      "    7     7     7   111\n",
      "    8    10     8  1000\n",
      "    9    11     9  1001\n",
      "   10    12     A  1010\n",
      "   11    13     B  1011\n",
      "   12    14     C  1100\n",
      "   13    15     D  1101\n",
      "   14    16     E  1110\n",
      "   15    17     F  1111\n",
      "   16    20    10 10000\n",
      "   17    21    11 10001\n"
     ]
    }
   ],
   "source": [
    "\n",
    "n = int(input())\n",
    "print_formatted(n)"
   ]
  },
  {
   "cell_type": "code",
   "execution_count": 113,
   "id": "18a53053",
   "metadata": {},
   "outputs": [
    {
     "data": {
      "text/plain": [
       "'b'"
      ]
     },
     "execution_count": 113,
     "metadata": {},
     "output_type": "execute_result"
    }
   ],
   "source": [
    "import string\n",
    "\n",
    "alpha = list(string.ascii_lowercase)\n",
    "\n",
    "alpha[1]"
   ]
  },
  {
   "cell_type": "code",
   "execution_count": 122,
   "id": "312943f6",
   "metadata": {},
   "outputs": [],
   "source": [
    "def print_rangoli(size):\n",
    "    length = size*4 \n",
    "    l = '-a-'\n",
    "    print(l.center(length-1, '-'))\n",
    "    for i in range(1,size):\n",
    "        l = '-' + alpha[i] + l + alpha[i] + '-'\n",
    "        print(l.center(length-1, '-'))\n",
    "    for i in range(size-1):\n",
    "        l = l[2:-2]\n",
    "        print(l.center(length-1, '-'))"
   ]
  },
  {
   "cell_type": "code",
   "execution_count": 124,
   "id": "e6fd3832",
   "metadata": {},
   "outputs": [
    {
     "name": "stdout",
     "output_type": "stream",
     "text": [
      "---------a---------\n",
      "-------b-a-b-------\n",
      "-----c-b-a-b-c-----\n",
      "---d-c-b-a-b-c-d---\n",
      "-e-d-c-b-a-b-c-d-e-\n",
      "---d-c-b-a-b-c-d---\n",
      "-----c-b-a-b-c-----\n",
      "-------b-a-b-------\n",
      "---------a---------\n"
     ]
    }
   ],
   "source": [
    "print_rangoli(5)"
   ]
  },
  {
   "cell_type": "code",
   "execution_count": 134,
   "id": "8a6c06b7",
   "metadata": {},
   "outputs": [
    {
     "name": "stdout",
     "output_type": "stream",
     "text": [
      "-c-\n",
      "-c-b-c-\n"
     ]
    }
   ],
   "source": [
    "ll = '-c-'\n",
    "print(ll)\n",
    "ll = ll[:3] + alpha[2-1] + ll[-3:]\n",
    "print(ll)\n",
    "#for i in range(3):\n",
    "#    ll = ll[:1] + alpha[3-i] + ll[i:]"
   ]
  },
  {
   "cell_type": "code",
   "execution_count": 138,
   "id": "aaddb223",
   "metadata": {},
   "outputs": [
    {
     "name": "stdout",
     "output_type": "stream",
     "text": [
      "-c-\n",
      "-c-b-c-\n",
      "-c-b-a-b-c-\n",
      "-c-b-a-z-a-b-c-\n"
     ]
    }
   ],
   "source": [
    "ll = '-c-'\n",
    "print(ll)\n",
    "k = 1\n",
    "for i in range(3,9,2):\n",
    "    ll = ll[:i] + alpha[2-k] + ll[-i:]\n",
    "    print(ll)\n",
    "    k+=1"
   ]
  },
  {
   "cell_type": "code",
   "execution_count": 251,
   "id": "68e981c4",
   "metadata": {},
   "outputs": [],
   "source": [
    "def print_rangoli(size):\n",
    "    length = size*4 -3\n",
    "    ll = '-' + alpha[size-1] + '-'\n",
    "    print(ll.center(length,'-'))\n",
    "    k = 1\n",
    "    for i in range(3,size*2,2):\n",
    "        ll = ll[:i] + alpha[size -1 -k] + ll[-i:]\n",
    "        if len(ll) == length + 2:\n",
    "            print(ll[1:-1].center(length,'-'))\n",
    "        else:\n",
    "            print(ll.center(length,'-'))\n",
    "        k+=1\n",
    "    \n",
    "    for i in range(size-2):\n",
    "        ll_length = len(ll)\n",
    "        ll = ll[:ll_length//2] + ll[-(ll_length//2-3):]\n",
    "        print(ll.center(length, '-'))\n",
    "    ll = '-' + alpha[size-1] + '-'\n",
    "    print(ll.center(length,'-'))\n"
   ]
  },
  {
   "cell_type": "code",
   "execution_count": 252,
   "id": "1cf329b3",
   "metadata": {},
   "outputs": [
    {
     "name": "stdout",
     "output_type": "stream",
     "text": [
      "--------e--------\n",
      "------e-d-e------\n",
      "----e-d-c-d-e----\n",
      "--e-d-c-b-c-d-e--\n",
      "e-d-c-b-a-b-c-d-e\n",
      "--e-d-c-b-c-d-e--\n",
      "----e-d-c-d-e----\n",
      "------e-d-e------\n",
      "--------e--------\n"
     ]
    }
   ],
   "source": [
    "print_rangoli(5)"
   ]
  },
  {
   "cell_type": "code",
   "execution_count": 241,
   "id": "d5637455",
   "metadata": {},
   "outputs": [
    {
     "data": {
      "text/plain": [
       "'-c-b-c-'"
      ]
     },
     "execution_count": 241,
     "metadata": {},
     "output_type": "execute_result"
    }
   ],
   "source": [
    "kk = '-c-b-a-b-c-'\n",
    "ll_length = len(kk)\n",
    "kk[:ll_length//2] + kk[-(ll_length//2-3):]"
   ]
  },
  {
   "cell_type": "code",
   "execution_count": 182,
   "id": "28d6bc0b",
   "metadata": {},
   "outputs": [
    {
     "data": {
      "text/plain": [
       "'c-b-'"
      ]
     },
     "execution_count": 182,
     "metadata": {},
     "output_type": "execute_result"
    }
   ],
   "source": [
    "k = 'c'\n",
    "k[0:] + '-' + 'b' + '-' + k[:-0]"
   ]
  },
  {
   "cell_type": "code",
   "execution_count": 119,
   "id": "828ad362",
   "metadata": {},
   "outputs": [
    {
     "data": {
      "text/plain": [
       "'-b-a-b-'"
      ]
     },
     "execution_count": 119,
     "metadata": {},
     "output_type": "execute_result"
    }
   ],
   "source": [
    "k[2:-2]"
   ]
  },
  {
   "cell_type": "code",
   "execution_count": 65,
   "id": "65b4ae84",
   "metadata": {},
   "outputs": [
    {
     "data": {
      "text/plain": [
       "'----a-----'"
      ]
     },
     "execution_count": 65,
     "metadata": {},
     "output_type": "execute_result"
    }
   ],
   "source": [
    "'a'.center(10,'-')"
   ]
  },
  {
   "cell_type": "code",
   "execution_count": 71,
   "id": "4666ce82",
   "metadata": {},
   "outputs": [
    {
     "name": "stdout",
     "output_type": "stream",
     "text": [
      "-a-\n",
      "-b-a-b-\n",
      "-c-b-a-b-c-\n",
      "-d-c-b-a-b-c-d-\n"
     ]
    }
   ],
   "source": [
    "l = '-a-'\n",
    "print(l)\n",
    "for i in range(1,4):\n",
    "    \n",
    "    l = '-' + alpha[i] + l + alpha[i] + '-'\n",
    "    print(l)"
   ]
  },
  {
   "cell_type": "code",
   "execution_count": null,
   "id": "2eb2f292",
   "metadata": {},
   "outputs": [],
   "source": []
  },
  {
   "cell_type": "code",
   "execution_count": null,
   "id": "f64984de",
   "metadata": {},
   "outputs": [],
   "source": []
  },
  {
   "cell_type": "code",
   "execution_count": null,
   "id": "f90c8529",
   "metadata": {},
   "outputs": [],
   "source": []
  },
  {
   "cell_type": "code",
   "execution_count": null,
   "id": "8ee4ba65",
   "metadata": {},
   "outputs": [],
   "source": []
  },
  {
   "cell_type": "code",
   "execution_count": null,
   "id": "33e40711",
   "metadata": {},
   "outputs": [],
   "source": []
  },
  {
   "cell_type": "code",
   "execution_count": null,
   "id": "bfa2b703",
   "metadata": {},
   "outputs": [],
   "source": []
  },
  {
   "cell_type": "code",
   "execution_count": 5,
   "id": "cf0cb010",
   "metadata": {},
   "outputs": [
    {
     "data": {
      "text/plain": [
       "'HHH'"
      ]
     },
     "execution_count": 5,
     "metadata": {},
     "output_type": "execute_result"
    }
   ],
   "source": [
    "'H'*3"
   ]
  },
  {
   "cell_type": "code",
   "execution_count": 30,
   "id": "68b0993c",
   "metadata": {},
   "outputs": [
    {
     "data": {
      "text/plain": [
       "2"
      ]
     },
     "execution_count": 30,
     "metadata": {},
     "output_type": "execute_result"
    }
   ],
   "source": [
    "c = 'H'\n",
    "thicknes = 5\n",
    "middle = int(thicknes/2)\n",
    "middle"
   ]
  },
  {
   "cell_type": "code",
   "execution_count": 60,
   "id": "893f787f",
   "metadata": {},
   "outputs": [
    {
     "name": "stdout",
     "output_type": "stream",
     "text": [
      "          \n",
      "    HH    \n",
      "   HHHH   \n",
      "  HHHHHH  \n",
      " HHHHHHHH \n",
      "   HHHH                    HHHH       \n",
      "   HHHH                    HHHH       \n",
      "   HHHH                    HHHH       \n",
      "   HHHH                    HHHH       \n",
      "   HHHH                    HHHH       \n",
      "HHHHHHHHHHHHHHHHHHHHHHHHHHHHHHHHHHH\n",
      "HHHHHHHHHHHHHHHHHHHHHHHHHHHHHHHHHHH\n",
      "HHHHHHHHHHHHHHHHHHHHHHHHHHHHHHHHHHH\n"
     ]
    }
   ],
   "source": [
    "for i in range(thicknes):\n",
    "    print(f'{c*i}'.rjust(thicknes,' ') + f'{c*i}'.ljust(thicknes,' '))\n",
    "    \n",
    "for i in range(thicknes):\n",
    "    print(f'{c*4}'.center(thicknes+4,' ') + ' '*10 + f'{c*4}'.center(thicknes+14,' '))\n",
    "    \n",
    "for i in range(3):\n",
    "    print(f'{c*35}'.rjust(30,' '))"
   ]
  },
  {
   "cell_type": "code",
   "execution_count": null,
   "id": "4de7dd80",
   "metadata": {},
   "outputs": [],
   "source": []
  }
 ],
 "metadata": {
  "kernelspec": {
   "display_name": "Python 3 (ipykernel)",
   "language": "python",
   "name": "python3"
  },
  "language_info": {
   "codemirror_mode": {
    "name": "ipython",
    "version": 3
   },
   "file_extension": ".py",
   "mimetype": "text/x-python",
   "name": "python",
   "nbconvert_exporter": "python",
   "pygments_lexer": "ipython3",
   "version": "3.9.7"
  }
 },
 "nbformat": 4,
 "nbformat_minor": 5
}
